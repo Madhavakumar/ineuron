{
 "cells": [
  {
   "cell_type": "code",
   "execution_count": 1,
   "metadata": {},
   "outputs": [
    {
     "name": "stdout",
     "output_type": "stream",
     "text": [
      "Collecting cassandra-driver\n",
      "  Downloading cassandra-driver-3.25.0.tar.gz (289 kB)\n",
      "Requirement already satisfied: six>=1.9 in c:\\users\\madha\\appdata\\roaming\\python\\python39\\site-packages (from cassandra-driver) (1.15.0)\n",
      "Collecting geomet<0.3,>=0.1\n",
      "  Downloading geomet-0.2.1.post1-py3-none-any.whl (18 kB)\n",
      "Collecting click\n",
      "  Downloading click-8.0.4-py3-none-any.whl (97 kB)\n",
      "Requirement already satisfied: colorama in c:\\users\\madha\\appdata\\roaming\\python\\python39\\site-packages (from click->geomet<0.3,>=0.1->cassandra-driver) (0.4.4)\n",
      "Using legacy 'setup.py install' for cassandra-driver, since package 'wheel' is not installed.\n",
      "Installing collected packages: click, geomet, cassandra-driver\n",
      "    Running setup.py install for cassandra-driver: started\n",
      "    Running setup.py install for cassandra-driver: still running...\n",
      "    Running setup.py install for cassandra-driver: still running...\n",
      "    Running setup.py install for cassandra-driver: finished with status 'done'\n",
      "Successfully installed cassandra-driver-3.25.0 click-8.0.4 geomet-0.2.1.post1\n",
      "Note: you may need to restart the kernel to use updated packages.\n"
     ]
    },
    {
     "name": "stderr",
     "output_type": "stream",
     "text": [
      "WARNING: You are using pip version 21.0.1; however, version 22.0.3 is available.\n",
      "You should consider upgrading via the 'C:\\Users\\madha\\AppData\\Local\\Programs\\Python\\Python39\\python.exe -m pip install --upgrade pip' command.\n"
     ]
    }
   ],
   "source": [
    "pip install cassandra-driver"
   ]
  }
 ],
 "metadata": {
  "interpreter": {
   "hash": "80f98d2789d9ff5934f134f4186092d464132f651b3026eeffcf0605b7ea987d"
  },
  "kernelspec": {
   "display_name": "Python 3.9.0 64-bit",
   "language": "python",
   "name": "python3"
  },
  "language_info": {
   "codemirror_mode": {
    "name": "ipython",
    "version": 3
   },
   "file_extension": ".py",
   "mimetype": "text/x-python",
   "name": "python",
   "nbconvert_exporter": "python",
   "pygments_lexer": "ipython3",
   "version": "3.9.0"
  },
  "orig_nbformat": 4
 },
 "nbformat": 4,
 "nbformat_minor": 2
}
