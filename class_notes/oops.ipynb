{
 "cells": [
  {
   "cell_type": "code",
   "execution_count": 47,
   "metadata": {},
   "outputs": [],
   "source": [
    "class parent:\n",
    "\n",
    "    def __init__(self,file_name) -> None:\n",
    "        self.file_name = file_name+\".txt\"\n",
    "        \n",
    "\n",
    "    def read(self):\n",
    "        print(\"read function\")\n",
    "        file_to_read = open(self.file_name,\"r\")\n",
    "        print(file_to_read.readline())\n",
    "        file_to_read.close()\n",
    "    \n",
    "    def write(self,lines_to_write):\n",
    "        # change to write after from already available\n",
    "        print(\"write function\")\n",
    "        file_to_read = open(self.file_name,\"w\")\n",
    "        file_to_read.write(lines_to_write)\n",
    "        file_to_read.close()\n",
    "\n",
    "class child(parent):\n",
    "    pass\n",
    "\n",
    "    "
   ]
  },
  {
   "cell_type": "code",
   "execution_count": 48,
   "metadata": {},
   "outputs": [
    {
     "name": "stdout",
     "output_type": "stream",
     "text": [
      "read function\n",
      "super class\n"
     ]
    }
   ],
   "source": [
    "x = child('test')\n",
    "x.read()"
   ]
  },
  {
   "cell_type": "code",
   "execution_count": 49,
   "metadata": {},
   "outputs": [],
   "source": [
    "class Bonus:\n",
    "    # encaptulation means public ,protected,private attribute\n",
    "    def __init__(self,empid,empsalary,emprating) -> None:\n",
    "        self.empid = empid           # public attribute\n",
    "        self.emprating = emprating\n",
    "        self.empsalary = empsalary\n",
    "        self._empmail = \"abc@duck.com\" # protected attribute\n",
    "        self.__bonusforA = 70\n",
    "        self.__bonusforB = 60\n",
    "        self.__bonusforC = 50  # private attribute\n",
    "\n",
    "    def bonuscalc(self):\n",
    "        if self.emprating==\"A\":\n",
    "            bonus = self.empsalary*(self.__bonusforA/100)\n",
    "        elif self.emprating==\"B\":\n",
    "            bonus = self.empsalary*(self.__bonusforB/100)\n",
    "        elif self.emprating==\"C\":\n",
    "            bonus = self.empsalary*(self.__bonusforC/100)\n",
    "        else:\n",
    "            bonus = \"No bonus\"\n",
    "\n",
    "        return bonus\n",
    "\n"
   ]
  },
  {
   "cell_type": "code",
   "execution_count": 50,
   "metadata": {},
   "outputs": [
    {
     "data": {
      "text/plain": [
       "'No bonus'"
      ]
     },
     "execution_count": 50,
     "metadata": {},
     "output_type": "execute_result"
    }
   ],
   "source": [
    "emp = Bonus(101,1000,'d')\n",
    "emp.bonuscalc()"
   ]
  },
  {
   "cell_type": "code",
   "execution_count": 3,
   "metadata": {},
   "outputs": [],
   "source": [
    "class Parent:\n",
    "    def __init__(self,a,b):\n",
    "        self.a =a\n",
    "        self.b= b\n",
    "    def add(self):\n",
    "        return self.a+self.b\n",
    "    def subtract(self):\n",
    "        return self.a-self.b\n",
    "\n",
    "class child(Parent):\n",
    "    def multiply(self):\n",
    "        return self.a*self.b\n",
    "\n",
    "class child1(child):\n",
    "    def __init__(self, a, b):\n",
    "        self.a = a\n",
    "        self.b=b\n",
    "        \n",
    "\n"
   ]
  },
  {
   "cell_type": "code",
   "execution_count": 8,
   "metadata": {},
   "outputs": [
    {
     "data": {
      "text/plain": [
       "12"
      ]
     },
     "execution_count": 8,
     "metadata": {},
     "output_type": "execute_result"
    }
   ],
   "source": [
    "c  =child1(4,5)\n",
    "p = child(3,4)\n",
    "p.multiply()"
   ]
  },
  {
   "cell_type": "code",
   "execution_count": 29,
   "metadata": {},
   "outputs": [],
   "source": [
    "class Parent:\n",
    "    def __init__(self,a,b):\n",
    "        self.a =a\n",
    "        self.b= b\n",
    "    def add(self):\n",
    "        return self.a+self.b\n",
    "    def subtract(self):\n",
    "        return self.a-self.b\n",
    "\n",
    "class Parent1:\n",
    "    def __init__(self,a,b):\n",
    "        self.a =a\n",
    "        self.__b = 2\n",
    "\n",
    "    def multiply(self):\n",
    "        return self.a*self.__b\n",
    "\n",
    "\n",
    "class math(Parent,Parent1):\n",
    "    pass\n",
    "\n",
    "        "
   ]
  },
  {
   "cell_type": "code",
   "execution_count": 30,
   "metadata": {},
   "outputs": [
    {
     "data": {
      "text/plain": [
       "4"
      ]
     },
     "execution_count": 30,
     "metadata": {},
     "output_type": "execute_result"
    }
   ],
   "source": [
    "m = Parent1(2,3)\n",
    "m.multiply()"
   ]
  },
  {
   "cell_type": "code",
   "execution_count": null,
   "metadata": {},
   "outputs": [],
   "source": []
  },
  {
   "cell_type": "code",
   "execution_count": null,
   "metadata": {},
   "outputs": [],
   "source": []
  },
  {
   "cell_type": "code",
   "execution_count": null,
   "metadata": {},
   "outputs": [],
   "source": []
  },
  {
   "cell_type": "code",
   "execution_count": 51,
   "metadata": {},
   "outputs": [
    {
     "name": "stdout",
     "output_type": "stream",
     "text": [
      "c\n"
     ]
    }
   ],
   "source": [
    "x= \"a\"\n",
    "\n",
    "def f():\n",
    "    x= \"b\"\n",
    "    def g():\n",
    "        x=\"c\"\n",
    "        print(x)\n",
    "    g()\n",
    "\n",
    "f()"
   ]
  },
  {
   "cell_type": "code",
   "execution_count": 52,
   "metadata": {},
   "outputs": [
    {
     "data": {
      "text/plain": [
       "[[1, 4, 7], [2, 5, 8], [3, 6, 9]]"
      ]
     },
     "execution_count": 52,
     "metadata": {},
     "output_type": "execute_result"
    }
   ],
   "source": [
    "x = [[1,2,3],[4,5,6],[7,8,9]]\n",
    "\n",
    "[[row[i] for row in x]for i in range(len(x))]"
   ]
  },
  {
   "cell_type": "code",
   "execution_count": 54,
   "metadata": {},
   "outputs": [
    {
     "data": {
      "text/plain": [
       "[(0, 'p'), (1, 'y'), (2, 't'), (3, 'h'), (4, 'o'), (5, 'n')]"
      ]
     },
     "execution_count": 54,
     "metadata": {},
     "output_type": "execute_result"
    }
   ],
   "source": [
    "list(enumerate('python'))"
   ]
  },
  {
   "cell_type": "code",
   "execution_count": 57,
   "metadata": {},
   "outputs": [
    {
     "name": "stdout",
     "output_type": "stream",
     "text": [
      "Counter({'Mon': 4, 'Tue': 2, 'Wed': 1, 'Thu': 1})\n"
     ]
    }
   ],
   "source": [
    "from collections import Counter\n",
    "\n",
    "days = ['Mon','Tue','Wed','Thu']\n",
    "\n",
    "counter = Counter(days)\n",
    "\n",
    "for x in range(1,5,2):\n",
    "    d = x%3\n",
    "    counter.update([days[d]]*x)\n",
    "print(counter)"
   ]
  },
  {
   "cell_type": "code",
   "execution_count": 58,
   "metadata": {},
   "outputs": [
    {
     "name": "stdout",
     "output_type": "stream",
     "text": [
      "I need a,b,c\n"
     ]
    }
   ],
   "source": [
    "print(\"I need %s,%s,%s\"%('a','b','c'))"
   ]
  },
  {
   "cell_type": "code",
   "execution_count": 31,
   "metadata": {},
   "outputs": [
    {
     "name": "stdout",
     "output_type": "stream",
     "text": [
      "{'banan': 9, 'apple': 12, 'carrot': 15}\n"
     ]
    }
   ],
   "source": [
    "friuts = ['apple','banan','apple','carrot']\n",
    "\n",
    "numbers = ((i+2)*3 for i in range(4))\n",
    "\n",
    "d={}\n",
    "for k,v in zip(friuts,numbers):\n",
    "    d = {**d,k:v}\n",
    "\n",
    "d = dict(sorted(d.items(),key=lambda i:i[1]))\n",
    "\n",
    "print(d)"
   ]
  },
  {
   "cell_type": "code",
   "execution_count": 66,
   "metadata": {},
   "outputs": [
    {
     "name": "stdout",
     "output_type": "stream",
     "text": [
      "[0, 23, 1]\n"
     ]
    }
   ],
   "source": [
    "arr = [0,23]\n",
    "\n",
    "arr+=[1]\n",
    "\n",
    "print(arr)"
   ]
  },
  {
   "cell_type": "code",
   "execution_count": 32,
   "metadata": {},
   "outputs": [
    {
     "name": "stdout",
     "output_type": "stream",
     "text": [
      "cba\n"
     ]
    }
   ],
   "source": [
    "def reverse(strng):\n",
    "    if len(strng)<=1:\n",
    "        return strng\n",
    "    \n",
    "    first = strng[0]\n",
    "    last = strng[1:len(strng)]\n",
    "    return reverse(last)+first\n",
    "\n",
    "print(reverse(\"abc\"))"
   ]
  },
  {
   "cell_type": "code",
   "execution_count": 73,
   "metadata": {},
   "outputs": [
    {
     "name": "stdout",
     "output_type": "stream",
     "text": [
      "{'hello': {'world': {}, 'there': {}}}\n"
     ]
    }
   ],
   "source": [
    "def build(lst):\n",
    "    root = {}\n",
    "    for s in lst:\n",
    "        base =root\n",
    "        for w in s.split(' '):\n",
    "            if not base.get(w):\n",
    "                base[w]={}\n",
    "            base = base[w]\n",
    "    return root\n",
    "\n",
    "print(build(['hello world','hello there']))"
   ]
  },
  {
   "cell_type": "code",
   "execution_count": 74,
   "metadata": {},
   "outputs": [
    {
     "name": "stdout",
     "output_type": "stream",
     "text": [
      "1\n"
     ]
    }
   ],
   "source": [
    "import queue,time,threading\n",
    "q = queue.Queue()\n",
    "\n",
    "for i in [3,2,1]:\n",
    "    def f():\n",
    "        time.sleep(i)\n",
    "        q.put(i)\n",
    "    threading.Thread(target=f).start()\n",
    "\n",
    "print(q.get())\n"
   ]
  },
  {
   "cell_type": "code",
   "execution_count": 75,
   "metadata": {},
   "outputs": [
    {
     "name": "stdout",
     "output_type": "stream",
     "text": [
      "24\n"
     ]
    }
   ],
   "source": [
    "f = lambda n: 1 if n<=1 else n*f(n-1)\n",
    "\n",
    "print(f(4))"
   ]
  },
  {
   "cell_type": "code",
   "execution_count": null,
   "metadata": {},
   "outputs": [],
   "source": [
    "def _(func,items):\n",
    "    i=0\n",
    "    for item in items:\n",
    "        if func(i):\n",
    "            items[i]=item\n",
    "            i+=1\n",
    "    del items[i:]\n",
    "\n",
    "\n"
   ]
  },
  {
   "cell_type": "markdown",
   "metadata": {},
   "source": [
    "mysql work bench\n",
    "cassendra\n",
    "mongo db\n"
   ]
  }
 ],
 "metadata": {
  "interpreter": {
   "hash": "80f98d2789d9ff5934f134f4186092d464132f651b3026eeffcf0605b7ea987d"
  },
  "kernelspec": {
   "display_name": "Python 3.9.0 64-bit",
   "language": "python",
   "name": "python3"
  },
  "language_info": {
   "codemirror_mode": {
    "name": "ipython",
    "version": 3
   },
   "file_extension": ".py",
   "mimetype": "text/x-python",
   "name": "python",
   "nbconvert_exporter": "python",
   "pygments_lexer": "ipython3",
   "version": "3.9.0"
  },
  "orig_nbformat": 4
 },
 "nbformat": 4,
 "nbformat_minor": 2
}
