{
 "cells": [
  {
   "cell_type": "markdown",
   "metadata": {},
   "source": [
    "#### 1. In the below elements which of them are values or an expression? eg:- values can be integer or string and expressions will be mathematical operators.\n",
    "\n",
    "    * - expression \n",
    "    'hello' - values\n",
    "    -87.8  - values\n",
    "    - - expression\n",
    "    / - expression\n",
    "    + - expression\n",
    "    6 - values\n"
   ]
  },
  {
   "cell_type": "markdown",
   "metadata": {},
   "source": [
    "#### 2. What is the difference between string and variable?\n",
    "**string** - which is a static thing we are not able to change its values after initilizing.\n",
    "\n",
    "\n",
    "**variable** - which is a dynamic thing we allowed to changes its value in runtime."
   ]
  },
  {
   "cell_type": "markdown",
   "metadata": {},
   "source": [
    "#### 3. Describe three different data types.\n",
    "    1. numeric\n",
    "    2. dict\n",
    "    3. sequence\n",
    " \n",
    "**numeric** - it contains int, float,complex\n",
    "\n",
    "**dict**  - unordered collection of values as a key value pair\n",
    "\n",
    "**sequence** - list,string,tuple are grouped under this type. it may allow to store various data types."
   ]
  },
  {
   "cell_type": "markdown",
   "metadata": {},
   "source": [
    "#### 4. What is an expression made up of? What do all expressions do?\n",
    "\n",
    "Expression can produces new value by the use of operator and oprands.Expression can evaluated as per presendence of its operator given."
   ]
  },
  {
   "cell_type": "markdown",
   "metadata": {},
   "source": [
    "#### 5. This assignment statements, like spam = 10. What is the difference between an expression and a statement?\n",
    "\n",
    "**Expression** - always evaluate its value.\n",
    "\n",
    "**Statemant** - it assign value to the declared variable or it displaying the value."
   ]
  },
  {
   "cell_type": "markdown",
   "metadata": {},
   "source": [
    "#### 6. After running the following code, what does the variable bacon contain?\n",
    "    bacon = 22\n",
    "    bacon + 1\n",
    "**23**"
   ]
  },
  {
   "cell_type": "markdown",
   "metadata": {},
   "source": [
    "#### 7. What should the values of the following two terms be?\n",
    "    'spam' + 'spamspam'\n",
    "    'spam' * 3\n",
    "\n",
    "**spamspamspam** both contains"
   ]
  },
  {
   "cell_type": "markdown",
   "metadata": {},
   "source": [
    "#### 8. Why is eggs a valid variable name while 100 is invalid?\n",
    "\n",
    "    Because 100 cannot be tokenized by the parser."
   ]
  },
  {
   "cell_type": "markdown",
   "metadata": {},
   "source": [
    "#### 9. What three functions can be used to get the integer, floating-point number, or string version of a value\n",
    "\n",
    "**interger** - int()\n",
    "\n",
    "**float** - float()\n",
    "\n",
    "**string** - str()"
   ]
  },
  {
   "cell_type": "markdown",
   "metadata": {},
   "source": [
    "#### 10. Why does this expression cause an error? How can you fix it?\n",
    "    'I have eaten ' + 99 + ' burritos.'\n",
    "    \n",
    "Concatenate takes only string type but we are passing int type thats why it cause an error. \n",
    "Fix for this is need to change the int type to string type like\n",
    "*'I have eaten ' + '99' + ' burritos.'* or *'I have eaten ' + str(99) + ' burritos.'*\n"
   ]
  },
  {
   "cell_type": "code",
   "execution_count": null,
   "metadata": {},
   "outputs": [],
   "source": []
  }
 ],
 "metadata": {
  "kernelspec": {
   "display_name": "Python 3",
   "language": "python",
   "name": "python3"
  },
  "language_info": {
   "codemirror_mode": {
    "name": "ipython",
    "version": 3
   },
   "file_extension": ".py",
   "mimetype": "text/x-python",
   "name": "python",
   "nbconvert_exporter": "python",
   "pygments_lexer": "ipython3",
   "version": "3.8.5"
  }
 },
 "nbformat": 4,
 "nbformat_minor": 4
}
